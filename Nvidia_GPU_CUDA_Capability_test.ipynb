{
  "nbformat": 4,
  "nbformat_minor": 0,
  "metadata": {
    "colab": {
      "provenance": [],
      "gpuType": "T4",
      "authorship_tag": "ABX9TyN4TXNlmKEiX5kQrN1A4xXb",
      "include_colab_link": true
    },
    "kernelspec": {
      "name": "python3",
      "display_name": "Python 3"
    },
    "language_info": {
      "name": "python"
    },
    "accelerator": "GPU"
  },
  "cells": [
    {
      "cell_type": "markdown",
      "metadata": {
        "id": "view-in-github",
        "colab_type": "text"
      },
      "source": [
        "<a href=\"https://colab.research.google.com/github/FranklineMisango/FPGA_Algorithmic_Trading/blob/main/Nvidia_GPU_CUDA_Capability_test.ipynb\" target=\"_parent\"><img src=\"https://colab.research.google.com/assets/colab-badge.svg\" alt=\"Open In Colab\"/></a>"
      ]
    },
    {
      "cell_type": "markdown",
      "source": [
        "## FPGA Libraries"
      ],
      "metadata": {
        "id": "keHzdjDFY9Ma"
      }
    },
    {
      "cell_type": "code",
      "execution_count": null,
      "metadata": {
        "id": "eQYywd4mXUfT",
        "colab": {
          "base_uri": "https://localhost:8080/"
        },
        "outputId": "c067add0-995f-4d77-a724-1733847c3b92"
      },
      "outputs": [
        {
          "output_type": "stream",
          "name": "stdout",
          "text": [
            "Reading package lists... Done\n",
            "Building dependency tree... Done\n",
            "Reading state information... Done\n",
            "Package python-dev is not available, but is referred to by another package.\n",
            "This may mean that the package is missing, has been obsoleted, or\n",
            "is only available from another source\n",
            "However the following packages replace it:\n",
            "  python2-dev python2 python-dev-is-python3\n",
            "\n",
            "E: Package 'python-dev' has no installation candidate\n",
            "Collecting pycuda\n",
            "  Downloading pycuda-2025.1.tar.gz (1.7 MB)\n",
            "\u001b[2K     \u001b[90m━━━━━━━━━━━━━━━━━━━━━━━━━━━━━━━━━━━━━━━━\u001b[0m \u001b[32m1.7/1.7 MB\u001b[0m \u001b[31m28.9 MB/s\u001b[0m eta \u001b[36m0:00:00\u001b[0m\n",
            "\u001b[?25h  Installing build dependencies ... \u001b[?25l\u001b[?25hdone\n",
            "  Getting requirements to build wheel ... \u001b[?25l\u001b[?25hdone\n",
            "  Preparing metadata (pyproject.toml) ... \u001b[?25l\u001b[?25hdone\n",
            "Collecting pytools>=2011.2 (from pycuda)\n",
            "  Downloading pytools-2025.1.1-py3-none-any.whl.metadata (3.0 kB)\n",
            "Requirement already satisfied: platformdirs>=2.2.0 in /usr/local/lib/python3.11/dist-packages (from pycuda) (4.3.6)\n",
            "Collecting mako (from pycuda)\n",
            "  Downloading Mako-1.3.9-py3-none-any.whl.metadata (2.9 kB)\n",
            "Requirement already satisfied: typing-extensions>=4.5 in /usr/local/lib/python3.11/dist-packages (from pytools>=2011.2->pycuda) (4.12.2)\n",
            "Requirement already satisfied: MarkupSafe>=0.9.2 in /usr/local/lib/python3.11/dist-packages (from mako->pycuda) (3.0.2)\n",
            "Downloading pytools-2025.1.1-py3-none-any.whl (92 kB)\n",
            "\u001b[2K   \u001b[90m━━━━━━━━━━━━━━━━━━━━━━━━━━━━━━━━━━━━━━━━\u001b[0m \u001b[32m92.8/92.8 kB\u001b[0m \u001b[31m9.0 MB/s\u001b[0m eta \u001b[36m0:00:00\u001b[0m\n",
            "\u001b[?25hDownloading Mako-1.3.9-py3-none-any.whl (78 kB)\n",
            "\u001b[2K   \u001b[90m━━━━━━━━━━━━━━━━━━━━━━━━━━━━━━━━━━━━━━━━\u001b[0m \u001b[32m78.5/78.5 kB\u001b[0m \u001b[31m7.6 MB/s\u001b[0m eta \u001b[36m0:00:00\u001b[0m\n",
            "\u001b[?25hBuilding wheels for collected packages: pycuda\n",
            "  Building wheel for pycuda (pyproject.toml) ... \u001b[?25l\u001b[?25hdone\n",
            "  Created wheel for pycuda: filename=pycuda-2025.1-cp311-cp311-linux_x86_64.whl size=660393 sha256=44e3e9f17f68e0188898c45b8578083f8a0f0dc5bf184b4d1c883f68869e109f\n",
            "  Stored in directory: /root/.cache/pip/wheels/77/7e/6c/d2d1451ea6424cdc3d67b36c16fa7111eafdf2034bc3405666\n",
            "Successfully built pycuda\n",
            "Installing collected packages: pytools, mako, pycuda\n",
            "Successfully installed mako-1.3.9 pycuda-2025.1 pytools-2025.1.1\n"
          ]
        }
      ],
      "source": [
        "!sudo apt-get install build-essential python-dev python-setuptools libboost-python-dev libboost-thread-dev -y\n",
        "!pip install pycuda"
      ]
    },
    {
      "cell_type": "code",
      "source": [
        "!uv pip install -q --system numba-cuda==0.4.0"
      ],
      "metadata": {
        "id": "11WQG7pPZJnK"
      },
      "execution_count": 8,
      "outputs": []
    },
    {
      "cell_type": "code",
      "source": [
        "import pycuda\n",
        "import pycuda.driver as drv\n",
        "drv.init()\n",
        "print('CUDA device query (PyCUDA version) \\n')\n",
        "print('Detected {} CUDA Capable device(s) \\n'.format(drv.Device.count()))\n",
        "for i in range(drv.Device.count()):\n",
        "\n",
        "    gpu_device = drv.Device(i)\n",
        "    print('Device {}: {}'.format( i, gpu_device.name() ) )\n",
        "    compute_capability = float( '%d.%d' % gpu_device.compute_capability() )\n",
        "    print('\\t Compute Capability: {}'.format(compute_capability))\n",
        "    print('\\t Total Memory: {} megabytes'.format(gpu_device.total_memory()//(1024**2)))\n"
      ],
      "metadata": {
        "colab": {
          "base_uri": "https://localhost:8080/"
        },
        "id": "eq8ORutfaJe8",
        "outputId": "325907de-1744-467c-f7b3-e71ce5bf4f23"
      },
      "execution_count": 1,
      "outputs": [
        {
          "output_type": "stream",
          "name": "stdout",
          "text": [
            "CUDA device query (PyCUDA version) \n",
            "\n",
            "Detected 1 CUDA Capable device(s) \n",
            "\n",
            "Device 0: Tesla T4\n",
            "\t Compute Capability: 7.5\n",
            "\t Total Memory: 15095 megabytes\n"
          ]
        }
      ]
    },
    {
      "cell_type": "code",
      "source": [
        "import numpy as np\n",
        "import timeit"
      ],
      "metadata": {
        "id": "Q16Py5YuhsXL"
      },
      "execution_count": 1,
      "outputs": []
    },
    {
      "cell_type": "markdown",
      "source": [
        "### Time testing for a very heavy program on CPU vs on GPU"
      ],
      "metadata": {
        "id": "iXcOTnuPbCDd"
      }
    },
    {
      "cell_type": "code",
      "source": [
        "from numba import config\n",
        "config.CUDA_ENABLE_PYNVJITLINK = 1\n",
        "config.CUDA_LOW_OCCUPANCY_WARNINGS = 0"
      ],
      "metadata": {
        "id": "WKIjEps4hDJ6"
      },
      "execution_count": 49,
      "outputs": []
    },
    {
      "cell_type": "code",
      "source": [
        "import numpy as np\n",
        "from numba import vectorize\n",
        "\n",
        "@vectorize(['float32(float32, float32)'], target='cuda')\n",
        "def Add(a, b):\n",
        "  return a + b\n",
        "start = timeit.default_timer()\n",
        "N = 1000000000\n",
        "A = np.ones(N, dtype=np.float32)\n",
        "B = np.ones(A.shape, dtype=A.dtype)\n",
        "C = np.empty_like(A, dtype=A.dtype)\n",
        "C = Add(A, B)\n",
        "print(\"The difference of time is :\", timeit.default_timer() - start)"
      ],
      "metadata": {
        "colab": {
          "base_uri": "https://localhost:8080/"
        },
        "id": "YUq92p7IctRc",
        "outputId": "8c8bfd06-cd9c-40fb-ebd8-0dba4d4b4710"
      },
      "execution_count": 3,
      "outputs": [
        {
          "output_type": "stream",
          "name": "stdout",
          "text": [
            "The difference of time is : 7.621459302999938\n"
          ]
        }
      ]
    },
    {
      "cell_type": "markdown",
      "source": [
        "## Scalping strategy CPU vs GPU"
      ],
      "metadata": {
        "id": "XOkm_l-mleRw"
      }
    },
    {
      "cell_type": "code",
      "source": [
        "!pip install ccxt pytz"
      ],
      "metadata": {
        "colab": {
          "base_uri": "https://localhost:8080/"
        },
        "collapsed": true,
        "id": "9JADsaqamKbN",
        "outputId": "0f75cc26-ecce-4030-a5e7-924986296483"
      },
      "execution_count": 3,
      "outputs": [
        {
          "output_type": "stream",
          "name": "stdout",
          "text": [
            "Collecting ccxt\n",
            "  Downloading ccxt-4.4.65-py2.py3-none-any.whl.metadata (129 kB)\n",
            "\u001b[?25l     \u001b[90m━━━━━━━━━━━━━━━━━━━━━━━━━━━━━━━━━━━━━━━━\u001b[0m \u001b[32m0.0/129.6 kB\u001b[0m \u001b[31m?\u001b[0m eta \u001b[36m-:--:--\u001b[0m\r\u001b[2K     \u001b[90m━━━━━━━━━━━━━━━━━━━━━━━━━━━━━━━━━━━━━━━━\u001b[0m \u001b[32m129.6/129.6 kB\u001b[0m \u001b[31m5.1 MB/s\u001b[0m eta \u001b[36m0:00:00\u001b[0m\n",
            "\u001b[?25hRequirement already satisfied: pytz in /usr/local/lib/python3.11/dist-packages (2025.1)\n",
            "Requirement already satisfied: setuptools>=60.9.0 in /usr/local/lib/python3.11/dist-packages (from ccxt) (75.1.0)\n",
            "Requirement already satisfied: certifi>=2018.1.18 in /usr/local/lib/python3.11/dist-packages (from ccxt) (2025.1.31)\n",
            "Requirement already satisfied: requests>=2.18.4 in /usr/local/lib/python3.11/dist-packages (from ccxt) (2.32.3)\n",
            "Requirement already satisfied: cryptography>=2.6.1 in /usr/local/lib/python3.11/dist-packages (from ccxt) (43.0.3)\n",
            "Requirement already satisfied: typing-extensions>=4.4.0 in /usr/local/lib/python3.11/dist-packages (from ccxt) (4.12.2)\n",
            "Collecting aiohttp<=3.10.11 (from ccxt)\n",
            "  Downloading aiohttp-3.10.11-cp311-cp311-manylinux_2_17_x86_64.manylinux2014_x86_64.whl.metadata (7.7 kB)\n",
            "Collecting aiodns>=1.1.1 (from ccxt)\n",
            "  Downloading aiodns-3.2.0-py3-none-any.whl.metadata (4.0 kB)\n",
            "Requirement already satisfied: yarl>=1.7.2 in /usr/local/lib/python3.11/dist-packages (from ccxt) (1.18.3)\n",
            "Collecting pycares>=4.0.0 (from aiodns>=1.1.1->ccxt)\n",
            "  Downloading pycares-4.5.0-cp311-cp311-manylinux_2_17_x86_64.manylinux2014_x86_64.whl.metadata (4.1 kB)\n",
            "Requirement already satisfied: aiohappyeyeballs>=2.3.0 in /usr/local/lib/python3.11/dist-packages (from aiohttp<=3.10.11->ccxt) (2.4.6)\n",
            "Requirement already satisfied: aiosignal>=1.1.2 in /usr/local/lib/python3.11/dist-packages (from aiohttp<=3.10.11->ccxt) (1.3.2)\n",
            "Requirement already satisfied: attrs>=17.3.0 in /usr/local/lib/python3.11/dist-packages (from aiohttp<=3.10.11->ccxt) (25.1.0)\n",
            "Requirement already satisfied: frozenlist>=1.1.1 in /usr/local/lib/python3.11/dist-packages (from aiohttp<=3.10.11->ccxt) (1.5.0)\n",
            "Requirement already satisfied: multidict<7.0,>=4.5 in /usr/local/lib/python3.11/dist-packages (from aiohttp<=3.10.11->ccxt) (6.1.0)\n",
            "Requirement already satisfied: cffi>=1.12 in /usr/local/lib/python3.11/dist-packages (from cryptography>=2.6.1->ccxt) (1.17.1)\n",
            "Requirement already satisfied: charset-normalizer<4,>=2 in /usr/local/lib/python3.11/dist-packages (from requests>=2.18.4->ccxt) (3.4.1)\n",
            "Requirement already satisfied: idna<4,>=2.5 in /usr/local/lib/python3.11/dist-packages (from requests>=2.18.4->ccxt) (3.10)\n",
            "Requirement already satisfied: urllib3<3,>=1.21.1 in /usr/local/lib/python3.11/dist-packages (from requests>=2.18.4->ccxt) (2.3.0)\n",
            "Requirement already satisfied: propcache>=0.2.0 in /usr/local/lib/python3.11/dist-packages (from yarl>=1.7.2->ccxt) (0.3.0)\n",
            "Requirement already satisfied: pycparser in /usr/local/lib/python3.11/dist-packages (from cffi>=1.12->cryptography>=2.6.1->ccxt) (2.22)\n",
            "Downloading ccxt-4.4.65-py2.py3-none-any.whl (5.6 MB)\n",
            "\u001b[2K   \u001b[90m━━━━━━━━━━━━━━━━━━━━━━━━━━━━━━━━━━━━━━━━\u001b[0m \u001b[32m5.6/5.6 MB\u001b[0m \u001b[31m78.3 MB/s\u001b[0m eta \u001b[36m0:00:00\u001b[0m\n",
            "\u001b[?25hDownloading aiodns-3.2.0-py3-none-any.whl (5.7 kB)\n",
            "Downloading aiohttp-3.10.11-cp311-cp311-manylinux_2_17_x86_64.manylinux2014_x86_64.whl (1.3 MB)\n",
            "\u001b[2K   \u001b[90m━━━━━━━━━━━━━━━━━━━━━━━━━━━━━━━━━━━━━━━━\u001b[0m \u001b[32m1.3/1.3 MB\u001b[0m \u001b[31m63.0 MB/s\u001b[0m eta \u001b[36m0:00:00\u001b[0m\n",
            "\u001b[?25hDownloading pycares-4.5.0-cp311-cp311-manylinux_2_17_x86_64.manylinux2014_x86_64.whl (288 kB)\n",
            "\u001b[2K   \u001b[90m━━━━━━━━━━━━━━━━━━━━━━━━━━━━━━━━━━━━━━━━\u001b[0m \u001b[32m288.6/288.6 kB\u001b[0m \u001b[31m25.8 MB/s\u001b[0m eta \u001b[36m0:00:00\u001b[0m\n",
            "\u001b[?25hInstalling collected packages: pycares, aiohttp, aiodns, ccxt\n",
            "  Attempting uninstall: aiohttp\n",
            "    Found existing installation: aiohttp 3.11.13\n",
            "    Uninstalling aiohttp-3.11.13:\n",
            "      Successfully uninstalled aiohttp-3.11.13\n",
            "Successfully installed aiodns-3.2.0 aiohttp-3.10.11 ccxt-4.4.65 pycares-4.5.0\n"
          ]
        }
      ]
    },
    {
      "cell_type": "code",
      "source": [
        "import ccxt\n",
        "import numpy as np\n",
        "import cupy as cp\n",
        "from numba import cuda, njit\n",
        "import timeit\n",
        "import csv\n",
        "from datetime import datetime as dt, timedelta\n",
        "import pytz\n",
        "import asyncio\n",
        "import aiohttp"
      ],
      "metadata": {
        "id": "_7WlpZMilpnG"
      },
      "execution_count": 41,
      "outputs": []
    },
    {
      "cell_type": "code",
      "source": [
        "class SwingHigh():\n",
        "    def __init__(self):\n",
        "        self.exchange = ccxt.bitget()\n",
        "        self.initial_gains = {}\n",
        "        self.data = {}\n",
        "        self.order_numbers = {}\n",
        "        self.shares_per_ticker = {}\n",
        "        self.positions = {}\n",
        "        self.portfolio_value = 60  # Initial portfolio value\n",
        "        self.fees = 0.006  # Trading fee (0.6%)\n",
        "\n",
        "    @staticmethod\n",
        "    @cuda.jit\n",
        "    def calculate_gains(initial_prices, current_prices, gains):\n",
        "        idx = cuda.grid(1)\n",
        "        if idx < initial_prices.size:\n",
        "            gains[idx] = (current_prices[idx] - initial_prices[idx]) / initial_prices[idx] * 100\n",
        "\n",
        "    @staticmethod\n",
        "    @njit\n",
        "    def process_data(initial_prices, current_prices):\n",
        "        gains = np.zeros_like(initial_prices, dtype=np.float32)\n",
        "        for i in range(initial_prices.size):\n",
        "            gains[i] = (current_prices[i] - initial_prices[i]) / initial_prices[i] * 100\n",
        "        return gains\n",
        "\n",
        "    async def fetch_data(self, symbol, since):\n",
        "        loop = asyncio.get_event_loop()\n",
        "        async with aiohttp.ClientSession() as session:\n",
        "            try:\n",
        "                data = await loop.run_in_executor(None, self.get_minute_data, symbol, since)\n",
        "                return data\n",
        "            except Exception as e:\n",
        "                print(f\"Error fetching data for {symbol}: {e}\")\n",
        "                return None\n",
        "\n",
        "    async def fetch_all_data(self, symbols, since):\n",
        "        tasks = [self.fetch_data(symbol, since) for symbol in symbols]\n",
        "        return await asyncio.gather(*tasks)\n",
        "\n",
        "    async def fetch_the_volatile_cryptocurrencies(self, hours):\n",
        "        hkt = pytz.timezone('Asia/Hong_Kong')\n",
        "        now = dt.now(hkt)\n",
        "        print(f\"Fetching coin prices from Binance from {hours} hour(s) ago to now which is {now} HKT\")\n",
        "        since = int((now - timedelta(hours=hours)).timestamp() * 1000)\n",
        "        markets = self.exchange.load_markets()\n",
        "        volatile_tickers = []\n",
        "\n",
        "        initial_prices = []\n",
        "        current_prices = []\n",
        "        symbols = []\n",
        "\n",
        "        # Fetch data asynchronously\n",
        "        symbols_to_fetch = [symbol for symbol in markets if '/USDT' in symbol]\n",
        "        data_list = await self.fetch_all_data(symbols_to_fetch, since)\n",
        "\n",
        "        for i, symbol in enumerate(symbols_to_fetch):\n",
        "            data = data_list[i]\n",
        "            if data:\n",
        "                initial_prices.append(data[0][1])  # Opening price hours ago\n",
        "                current_prices.append(data[-1][4])  # Closing price now\n",
        "                symbols.append(symbol)\n",
        "\n",
        "        # Convert to CuPy arrays for GPU processing\n",
        "        initial_prices = cp.array(initial_prices, dtype=cp.float32)\n",
        "        current_prices = cp.array(current_prices, dtype=cp.float32)\n",
        "        gains = cp.zeros_like(initial_prices)\n",
        "\n",
        "        threads_per_block = 128\n",
        "        blocks_per_grid = (initial_prices.size + (threads_per_block - 1)) // threads_per_block\n",
        "        self.calculate_gains[blocks_per_grid, threads_per_block](initial_prices, current_prices, gains)\n",
        "\n",
        "        # Copy gains back to CPU from GPU\n",
        "        gains = cp.asnumpy(gains)\n",
        "\n",
        "        for i, symbol in enumerate(symbols):\n",
        "            gain = gains[i]\n",
        "            num_trades = self.exchange.fetch_trades(symbol, since=since)\n",
        "            if gain >= 2:\n",
        "                volatile_tickers.append({\n",
        "                    'symbol': symbol,\n",
        "                    'initial_price': initial_prices[i],\n",
        "                    'current_price': current_prices[i],\n",
        "                    '%change': gain,\n",
        "                    'num_trades': num_trades\n",
        "                })\n",
        "                self.initial_gains[symbol] = gain\n",
        "            elif symbol in self.initial_gains and gain < self.initial_gains[symbol] * 0.95:\n",
        "                volatile_tickers = [ticker for ticker in volatile_tickers if ticker['symbol'] != symbol]\n",
        "                del self.initial_gains[symbol]\n",
        "\n",
        "        volatile_tickers.sort(key=lambda x: x['%change'], reverse=True)\n",
        "        with open('volatile_tickers.csv', 'w') as f:\n",
        "            writer = csv.writer(f)\n",
        "            writer.writerow(['symbol', 'initial_price', 'current_price', '%change', 'num_trades'])\n",
        "            for ticker in volatile_tickers:\n",
        "                writer.writerow([ticker['symbol'], ticker['initial_price'], ticker['current_price'], ticker['%change'], ticker['num_trades']])\n",
        "        return volatile_tickers\n",
        "\n",
        "    def get_minute_data(self, symbol, since):\n",
        "        ohlcv = self.exchange.fetch_ohlcv(symbol, timeframe='1m', since=since)\n",
        "        return ohlcv\n",
        "\n",
        "    def log_message(self, message):\n",
        "        print(message)\n",
        "        with open('backtest_log.csv', 'a') as f:\n",
        "            writer = csv.writer(f)\n",
        "            writer.writerow([dt.now(), message])\n",
        "\n",
        "    def get_position(self, symbol):\n",
        "        return self.positions.get(symbol, False)\n",
        "\n",
        "    def get_last_price(self, symbol):\n",
        "        return self.exchange.fetch_ticker(symbol)['last']\n",
        "\n",
        "    def sell_all(self, symbol, entry_price):\n",
        "        current_price = self.get_last_price(symbol)\n",
        "        if self.get_position(symbol):\n",
        "            dropping_price = entry_price * 0.995\n",
        "            higher_than_earlier_price = entry_price * 1.015\n",
        "            if current_price < dropping_price or current_price >= higher_than_earlier_price:\n",
        "                shares = self.shares_per_ticker[symbol]\n",
        "                sale_value = shares * current_price\n",
        "                sale_value -= sale_value * self.fees  # Subtract fees\n",
        "                self.portfolio_value += sale_value\n",
        "                self.log_message(f\"Selling all for {symbol} at {current_price} \")\n",
        "                self.positions[symbol] = False\n",
        "\n",
        "    async def run_backtest(self):\n",
        "        volatile_tickers = await self.fetch_the_volatile_cryptocurrencies(hours=1)\n",
        "        self.symbols = [ticker['symbol'] for ticker in volatile_tickers]\n",
        "\n",
        "        # Allocate 30% to the highest volatility ticker and 70% to the rest\n",
        "        if volatile_tickers:\n",
        "            highest_volatility_ticker = volatile_tickers[0]\n",
        "            highest_volatility_allocation = self.portfolio_value * 0.3\n",
        "            rest_allocation = self.portfolio_value * 0.7 / (len(volatile_tickers) - 1) if len(volatile_tickers) > 1 else 0\n",
        "\n",
        "        for ticker in volatile_tickers:\n",
        "            symbol = ticker['symbol']\n",
        "            initial_price_trading = ticker['initial_price']\n",
        "            allocation = highest_volatility_allocation if symbol == highest_volatility_ticker['symbol'] else rest_allocation\n",
        "            shares = allocation / initial_price_trading\n",
        "            self.shares_per_ticker[symbol] = shares\n",
        "            self.positions[symbol] = True\n",
        "            self.data[symbol] = []  # Initialize the data list for the symbol\n",
        "            self.log_message(f\"Bought {shares} coins of {symbol} at {initial_price_trading}\")\n",
        "\n",
        "        for _ in range(60):\n",
        "            for symbol in self.symbols:\n",
        "                if self.get_position(symbol):\n",
        "                    current_price = self.get_last_price(symbol)\n",
        "                    entry_price = self.data[symbol][0] if symbol in self.data and self.data[symbol] else current_price\n",
        "                    self.data[symbol].append(current_price)\n",
        "                    if current_price < entry_price * 0.995 or current_price >= entry_price * 1.015:\n",
        "                        self.sell_all(symbol, entry_price)\n",
        "\n",
        "        # Sell everything at the end of the backtest\n",
        "        for symbol in self.symbols:\n",
        "            if self.get_position(symbol):\n",
        "                self.sell_all(symbol, self.data[symbol][0])\n",
        "\n",
        "        # Calculate final portfolio value\n",
        "        final_portfolio_value = 0\n",
        "        for symbol in self.symbols:\n",
        "            if symbol in self.shares_per_ticker:\n",
        "                final_portfolio_value += self.shares_per_ticker[symbol] * self.get_last_price(symbol)\n",
        "        final_portfolio_value -= final_portfolio_value * self.fees  # Subtract fees\n",
        "\n",
        "        self.log_message(f\"Final portfolio value: {final_portfolio_value}\")\n",
        "\n",
        "import nest_asyncio\n",
        "nest_asyncio.apply()\n",
        "\n",
        "if __name__ == \"__main__\":\n",
        "    start_time = timeit.default_timer()\n",
        "    strategy = SwingHigh()\n",
        "    start_time = timeit.default_timer()\n",
        "    asyncio.run(strategy.run_backtest())\n",
        "    elapsed = timeit.default_timer() - start_time\n",
        "    print(f\"Backtest completed in {elapsed:.2f} seconds.\")\n",
        "\n"
      ],
      "metadata": {
        "colab": {
          "base_uri": "https://localhost:8080/"
        },
        "collapsed": true,
        "id": "n0uqz5XfldYh",
        "outputId": "0ecd2cfc-8315-4936-cc34-e639c0a3b0e6"
      },
      "execution_count": null,
      "outputs": [
        {
          "output_type": "stream",
          "name": "stdout",
          "text": [
            "Fetching coin prices from Binance from 1 hour(s) ago to now which is 2025-03-07 21:48:01.008134+08:00 HKT\n"
          ]
        }
      ]
    },
    {
      "cell_type": "code",
      "source": [],
      "metadata": {
        "id": "ZmBdiLfz1V5S"
      },
      "execution_count": null,
      "outputs": []
    }
  ]
}