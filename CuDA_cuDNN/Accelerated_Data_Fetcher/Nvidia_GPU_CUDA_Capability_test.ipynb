{
  "cells": [
    {
      "cell_type": "markdown",
      "metadata": {
        "colab_type": "text",
        "id": "view-in-github"
      },
      "source": [
        "<a href=\"https://colab.research.google.com/github/FranklineMisango/FPGA_Algorithmic_Trading/blob/main/Nvidia_GPU_CUDA_Capability_test.ipynb\" target=\"_parent\"><img src=\"https://colab.research.google.com/assets/colab-badge.svg\" alt=\"Open In Colab\"/></a>"
      ]
    },
    {
      "cell_type": "markdown",
      "metadata": {
        "id": "keHzdjDFY9Ma"
      },
      "source": [
        "## FPGA Libraries"
      ]
    },
    {
      "cell_type": "code",
      "execution_count": 1,
      "metadata": {
        "colab": {
          "base_uri": "https://localhost:8080/"
        },
        "id": "eq8ORutfaJe8",
        "outputId": "325907de-1744-467c-f7b3-e71ce5bf4f23"
      },
      "outputs": [
        {
          "name": "stdout",
          "output_type": "stream",
          "text": [
            "CUDA device query (PyCUDA version) \n",
            "\n",
            "Detected 1 CUDA Capable device(s) \n",
            "\n",
            "Device 0: NVIDIA GeForce GTX 1080\n",
            "\t Compute Capability: 6.1\n",
            "\t Total Memory: 8111 megabytes\n"
          ]
        }
      ],
      "source": [
        "import pycuda\n",
        "import pycuda.driver as drv\n",
        "drv.init()\n",
        "print('CUDA device query (PyCUDA version) \\n')\n",
        "print('Detected {} CUDA Capable device(s) \\n'.format(drv.Device.count()))\n",
        "for i in range(drv.Device.count()):\n",
        "\n",
        "    gpu_device = drv.Device(i)\n",
        "    print('Device {}: {}'.format( i, gpu_device.name() ) )\n",
        "    compute_capability = float( '%d.%d' % gpu_device.compute_capability() )\n",
        "    print('\\t Compute Capability: {}'.format(compute_capability))\n",
        "    print('\\t Total Memory: {} megabytes'.format(gpu_device.total_memory()//(1024**2)))\n"
      ]
    },
    {
      "cell_type": "code",
      "execution_count": 2,
      "metadata": {
        "id": "Q16Py5YuhsXL"
      },
      "outputs": [],
      "source": [
        "import numpy as np\n",
        "import timeit"
      ]
    },
    {
      "cell_type": "markdown",
      "metadata": {
        "id": "iXcOTnuPbCDd"
      },
      "source": [
        "### Time testing for a very heavy program on CPU vs on GPU"
      ]
    },
    {
      "cell_type": "code",
      "execution_count": 3,
      "metadata": {
        "id": "WKIjEps4hDJ6"
      },
      "outputs": [],
      "source": [
        "from numba import config\n",
        "config.CUDA_ENABLE_PYNVJITLINK = 1\n",
        "config.CUDA_LOW_OCCUPANCY_WARNINGS = 0"
      ]
    },
    {
      "cell_type": "code",
      "execution_count": 5,
      "metadata": {
        "colab": {
          "base_uri": "https://localhost:8080/"
        },
        "id": "YUq92p7IctRc",
        "outputId": "8c8bfd06-cd9c-40fb-ebd8-0dba4d4b4710"
      },
      "outputs": [
        {
          "name": "stdout",
          "output_type": "stream",
          "text": [
            "The difference of time is : 1.354535573999783\n"
          ]
        }
      ],
      "source": [
        "import numpy as np\n",
        "from numba import vectorize\n",
        "\n",
        "@vectorize(['float32(float32, float32)'], target='cuda')\n",
        "def Add(a, b):\n",
        "  return a + b\n",
        "start = timeit.default_timer()\n",
        "N = 10000000\n",
        "A = np.ones(N, dtype=np.float32)\n",
        "B = np.ones(A.shape, dtype=A.dtype)\n",
        "C = np.empty_like(A, dtype=A.dtype)\n",
        "C = Add(A, B)\n",
        "print(\"The difference of time is :\", timeit.default_timer() - start)"
      ]
    },
    {
      "cell_type": "markdown",
      "metadata": {
        "id": "XOkm_l-mleRw"
      },
      "source": [
        "## Scalping strategy CPU vs GPU"
      ]
    },
    {
      "cell_type": "code",
      "execution_count": 4,
      "metadata": {
        "id": "_7WlpZMilpnG"
      },
      "outputs": [],
      "source": [
        "import ccxt\n",
        "import numpy as np\n",
        "import cupy as cp\n",
        "from numba import cuda, njit\n",
        "import timeit\n",
        "import csv\n",
        "from datetime import datetime as dt, timedelta\n",
        "import pytz\n",
        "import asyncio\n",
        "import aiohttp"
      ]
    },
    {
      "cell_type": "code",
      "execution_count": 10,
      "metadata": {
        "colab": {
          "base_uri": "https://localhost:8080/"
        },
        "collapsed": true,
        "id": "n0uqz5XfldYh",
        "outputId": "0ecd2cfc-8315-4936-cc34-e639c0a3b0e6"
      },
      "outputs": [
        {
          "name": "stdout",
          "output_type": "stream",
          "text": [
            "Fetching coin prices from Binance from 336 hour(s) ago to now which is 2025-03-08 11:40:05.784819+08:00 HKT\n",
            "Bought 410.9589 coins of PI/USDT at 0.73\n",
            "Final portfolio value: 737.1667\n",
            "Backtest completed in 21.02 seconds.\n"
          ]
        }
      ],
      "source": [
        "class SwingHigh():\n",
        "    def __init__(self):\n",
        "        self.exchange = ccxt.okx()\n",
        "        self.initial_gains = {}\n",
        "        self.data = {}\n",
        "        self.order_numbers = {}\n",
        "        self.shares_per_ticker = {}\n",
        "        self.positions = {}\n",
        "        self.portfolio_value = 1000  # Initial portfolio value\n",
        "        self.fees = 0.006  # Trading fee (0.6%)\n",
        "\n",
        "    @staticmethod\n",
        "    @cuda.jit\n",
        "    def calculate_gains(initial_prices, current_prices, gains):\n",
        "        idx = cuda.grid(1)\n",
        "        if idx < initial_prices.size:\n",
        "            gains[idx] = (current_prices[idx] - initial_prices[idx]) / initial_prices[idx] * 100\n",
        "\n",
        "    @staticmethod\n",
        "    @njit\n",
        "    def process_data(initial_prices, current_prices):\n",
        "        gains = np.zeros_like(initial_prices, dtype=np.float32)\n",
        "        for i in range(initial_prices.size):\n",
        "            gains[i] = (current_prices[i] - initial_prices[i]) / initial_prices[i] * 100\n",
        "        return gains\n",
        "\n",
        "    async def fetch_data(self, symbol, since):\n",
        "        loop = asyncio.get_event_loop()\n",
        "        async with aiohttp.ClientSession() as session:\n",
        "            try:\n",
        "                data = await loop.run_in_executor(None, self.get_minute_data, symbol, since)\n",
        "                return data\n",
        "            except Exception as e:\n",
        "                print(f\"Error fetching data for {symbol}: {e}\")\n",
        "                return None\n",
        "\n",
        "    async def fetch_all_data(self, symbols, since):\n",
        "        tasks = [self.fetch_data(symbol, since) for symbol in symbols]\n",
        "        return await asyncio.gather(*tasks)\n",
        "\n",
        "    async def fetch_the_volatile_cryptocurrencies(self, hours):\n",
        "        hkt = pytz.timezone('Asia/Hong_Kong')\n",
        "        now = dt.now(hkt)\n",
        "        print(f\"Fetching coin prices from Binance from {hours} hour(s) ago to now which is {now} HKT\")\n",
        "        since = int((now - timedelta(hours=hours)).timestamp() * 1000)\n",
        "        markets = self.exchange.load_markets()\n",
        "        volatile_tickers = []\n",
        "\n",
        "        initial_prices = []\n",
        "        current_prices = []\n",
        "        symbols = []\n",
        "\n",
        "        # Fetch data asynchronously\n",
        "        #symbols_to_fetch = [symbol for symbol in markets if '/USDT' in symbol]\n",
        "        symbols_to_fetch = ['PI/USDT']\n",
        "        data_list = await self.fetch_all_data(symbols_to_fetch, since)\n",
        "\n",
        "        for i, symbol in enumerate(symbols_to_fetch):\n",
        "            data = data_list[i]\n",
        "            if data:\n",
        "                initial_prices.append(data[0][1])  # Opening price hours ago\n",
        "                current_prices.append(data[-1][4])  # Closing price now\n",
        "                symbols.append(symbol)\n",
        "\n",
        "        # Convert to CuPy arrays for GPU processing\n",
        "        initial_prices = cp.array(initial_prices, dtype=cp.float32)\n",
        "        current_prices = cp.array(current_prices, dtype=cp.float32)\n",
        "        gains = cp.zeros_like(initial_prices)\n",
        "\n",
        "        threads_per_block = 128\n",
        "        blocks_per_grid = (initial_prices.size + (threads_per_block - 1)) // threads_per_block\n",
        "        self.calculate_gains[blocks_per_grid, threads_per_block](initial_prices, current_prices, gains)\n",
        "\n",
        "        # Copy gains back to CPU from GPU\n",
        "        gains = cp.asnumpy(gains)\n",
        "\n",
        "        for i, symbol in enumerate(symbols):\n",
        "            gain = gains[i]\n",
        "            num_trades = self.exchange.fetch_trades(symbol, since=since)\n",
        "            if gain >= 2:\n",
        "                volatile_tickers.append({\n",
        "                    'symbol': symbol,\n",
        "                    'initial_price': initial_prices[i],\n",
        "                    'current_price': current_prices[i],\n",
        "                    '%change': gain,\n",
        "                    'num_trades': num_trades\n",
        "                })\n",
        "                self.initial_gains[symbol] = gain\n",
        "            elif symbol in self.initial_gains and gain < self.initial_gains[symbol] * 0.95:\n",
        "                volatile_tickers = [ticker for ticker in volatile_tickers if ticker['symbol'] != symbol]\n",
        "                del self.initial_gains[symbol]\n",
        "\n",
        "        volatile_tickers.sort(key=lambda x: x['%change'], reverse=True)\n",
        "        with open('volatile_tickers.csv', 'w') as f:\n",
        "            writer = csv.writer(f)\n",
        "            writer.writerow(['symbol', 'initial_price', 'current_price', '%change', 'num_trades'])\n",
        "            for ticker in volatile_tickers:\n",
        "                writer.writerow([ticker['symbol'], ticker['initial_price'], ticker['current_price'], ticker['%change'], ticker['num_trades']])\n",
        "        return volatile_tickers\n",
        "\n",
        "    def get_minute_data(self, symbol, since):\n",
        "        ohlcv = self.exchange.fetch_ohlcv(symbol, timeframe='1m', since=since)\n",
        "        return ohlcv\n",
        "\n",
        "    def log_message(self, message):\n",
        "        print(message)\n",
        "        with open('backtest_log.csv', 'a') as f:\n",
        "            writer = csv.writer(f)\n",
        "            writer.writerow([dt.now(), message])\n",
        "\n",
        "    def get_position(self, symbol):\n",
        "        return self.positions.get(symbol, False)\n",
        "\n",
        "    def get_last_price(self, symbol):\n",
        "        return self.exchange.fetch_ticker(symbol)['last']\n",
        "\n",
        "    def sell_all(self, symbol, entry_price):\n",
        "        current_price = self.get_last_price(symbol)\n",
        "        if self.get_position(symbol):\n",
        "            dropping_price = entry_price * 0.995\n",
        "            higher_than_earlier_price = entry_price * 1.015\n",
        "            if current_price < dropping_price or current_price >= higher_than_earlier_price:\n",
        "                shares = self.shares_per_ticker[symbol]\n",
        "                sale_value = shares * current_price\n",
        "                sale_value -= sale_value * self.fees  # Subtract fees\n",
        "                self.portfolio_value += sale_value\n",
        "                self.log_message(f\"Selling all for {symbol} at {current_price} \")\n",
        "                self.positions[symbol] = False\n",
        "\n",
        "    async def run_backtest(self):\n",
        "        volatile_tickers = await self.fetch_the_volatile_cryptocurrencies(hours=336)\n",
        "        self.symbols = [ticker['symbol'] for ticker in volatile_tickers]\n",
        "\n",
        "        # Allocate 30% to the highest volatility ticker and 70% to the rest\n",
        "        if volatile_tickers:\n",
        "            highest_volatility_ticker = volatile_tickers[0]\n",
        "            highest_volatility_allocation = self.portfolio_value * 0.3\n",
        "            rest_allocation = self.portfolio_value * 0.7 / (len(volatile_tickers) - 1) if len(volatile_tickers) > 1 else 0\n",
        "\n",
        "        for ticker in volatile_tickers:\n",
        "            symbol = ticker['symbol']\n",
        "            initial_price_trading = ticker['initial_price']\n",
        "            allocation = highest_volatility_allocation if symbol == highest_volatility_ticker['symbol'] else rest_allocation\n",
        "            shares = allocation / initial_price_trading\n",
        "            self.shares_per_ticker[symbol] = shares\n",
        "            self.positions[symbol] = True\n",
        "            self.data[symbol] = []  # Initialize the data list for the symbol\n",
        "            self.log_message(f\"Bought {shares} coins of {symbol} at {initial_price_trading}\")\n",
        "\n",
        "        for _ in range(60):\n",
        "            for symbol in self.symbols:\n",
        "                if self.get_position(symbol):\n",
        "                    current_price = self.get_last_price(symbol)\n",
        "                    entry_price = self.data[symbol][0] if symbol in self.data and self.data[symbol] else current_price\n",
        "                    self.data[symbol].append(current_price)\n",
        "                    if current_price < entry_price * 0.995 or current_price >= entry_price * 1.015:\n",
        "                        self.sell_all(symbol, entry_price)\n",
        "\n",
        "        # Sell everything at the end of the backtest\n",
        "        for symbol in self.symbols:\n",
        "            if self.get_position(symbol):\n",
        "                self.sell_all(symbol, self.data[symbol][0])\n",
        "\n",
        "        # Calculate final portfolio value\n",
        "        final_portfolio_value = 0\n",
        "        for symbol in self.symbols:\n",
        "            if symbol in self.shares_per_ticker:\n",
        "                final_portfolio_value += self.shares_per_ticker[symbol] * self.get_last_price(symbol)\n",
        "        final_portfolio_value -= final_portfolio_value * self.fees  # Subtract fees\n",
        "\n",
        "        self.log_message(f\"Final portfolio value: {final_portfolio_value}\")\n",
        "\n",
        "import nest_asyncio\n",
        "nest_asyncio.apply()\n",
        "\n",
        "if __name__ == \"__main__\":\n",
        "    start_time = timeit.default_timer()\n",
        "    strategy = SwingHigh()\n",
        "    start_time = timeit.default_timer()\n",
        "    asyncio.run(strategy.run_backtest())\n",
        "    elapsed = timeit.default_timer() - start_time\n",
        "    print(f\"Backtest completed in {elapsed:.2f} seconds.\")\n",
        "\n"
      ]
    }
  ],
  "metadata": {
    "accelerator": "GPU",
    "colab": {
      "authorship_tag": "ABX9TyN4TXNlmKEiX5kQrN1A4xXb",
      "gpuType": "T4",
      "include_colab_link": true,
      "provenance": []
    },
    "kernelspec": {
      "display_name": "FPGA_env",
      "language": "python",
      "name": "python3"
    },
    "language_info": {
      "codemirror_mode": {
        "name": "ipython",
        "version": 3
      },
      "file_extension": ".py",
      "mimetype": "text/x-python",
      "name": "python",
      "nbconvert_exporter": "python",
      "pygments_lexer": "ipython3",
      "version": "3.9.21"
    }
  },
  "nbformat": 4,
  "nbformat_minor": 0
}
